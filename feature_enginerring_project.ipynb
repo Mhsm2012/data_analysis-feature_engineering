{
  "nbformat": 4,
  "nbformat_minor": 0,
  "metadata": {
    "colab": {
      "name": "feature_enginerring_project.ipynb",
      "provenance": [],
      "authorship_tag": "ABX9TyNSdanjfEN6N8+PD0pi+zfu",
      "include_colab_link": true
    },
    "kernelspec": {
      "name": "python3",
      "display_name": "Python 3"
    },
    "language_info": {
      "name": "python"
    }
  },
  "cells": [
    {
      "cell_type": "markdown",
      "metadata": {
        "id": "view-in-github",
        "colab_type": "text"
      },
      "source": [
        "<a href=\"https://colab.research.google.com/github/Mhsm2012/data_analysis-feature_engineering/blob/main/feature_enginerring_project.ipynb\" target=\"_parent\"><img src=\"https://colab.research.google.com/assets/colab-badge.svg\" alt=\"Open In Colab\"/></a>"
      ]
    },
    {
      "cell_type": "markdown",
      "metadata": {
        "id": "OlACfoI8qloU"
      },
      "source": [
        "**import required libraries **"
      ]
    },
    {
      "cell_type": "code",
      "metadata": {
        "colab": {
          "base_uri": "https://localhost:8080/"
        },
        "id": "9HoTa6bmpYxH",
        "outputId": "b8733ba2-6c1b-4ab8-fb9d-ebad98535f51"
      },
      "source": [
        "%pylab inline"
      ],
      "execution_count": 1,
      "outputs": [
        {
          "output_type": "stream",
          "name": "stdout",
          "text": [
            "Populating the interactive namespace from numpy and matplotlib\n"
          ]
        }
      ]
    },
    {
      "cell_type": "code",
      "metadata": {
        "id": "4gKOp9Klq3uA"
      },
      "source": [
        "%config InlineBackend.figure_formats=['retina']"
      ],
      "execution_count": 2,
      "outputs": []
    },
    {
      "cell_type": "code",
      "metadata": {
        "id": "Jr9q198arVAt"
      },
      "source": [
        "import pandas as pd\n",
        "import seaborn as sns \n",
        "sns.set()"
      ],
      "execution_count": 3,
      "outputs": []
    },
    {
      "cell_type": "code",
      "metadata": {
        "id": "uY0_0KsBrjOv"
      },
      "source": [
        "path = '/content/Ames_Housing_Data.tsv'\n",
        "data = pd.read_csv(path , sep='\\t')"
      ],
      "execution_count": 4,
      "outputs": []
    },
    {
      "cell_type": "code",
      "metadata": {
        "colab": {
          "base_uri": "https://localhost:8080/"
        },
        "id": "4uRYl2V-r98g",
        "outputId": "226e6fe1-012f-43c4-9660-848b7323cbb8"
      },
      "source": [
        "data.head"
      ],
      "execution_count": 5,
      "outputs": [
        {
          "output_type": "execute_result",
          "data": {
            "text/plain": [
              "<bound method NDFrame.head of       Order        PID  MS SubClass  ... Sale Type  Sale Condition  SalePrice\n",
              "0         1  526301100           20  ...       WD           Normal     215000\n",
              "1         2  526350040           20  ...       WD           Normal     105000\n",
              "2         3  526351010           20  ...       WD           Normal     172000\n",
              "3         4  526353030           20  ...       WD           Normal     244000\n",
              "4         5  527105010           60  ...       WD           Normal     189900\n",
              "...     ...        ...          ...  ...       ...             ...        ...\n",
              "2925   2926  923275080           80  ...       WD           Normal     142500\n",
              "2926   2927  923276100           20  ...       WD           Normal     131000\n",
              "2927   2928  923400125           85  ...       WD           Normal     132000\n",
              "2928   2929  924100070           20  ...       WD           Normal     170000\n",
              "2929   2930  924151050           60  ...       WD           Normal     188000\n",
              "\n",
              "[2930 rows x 82 columns]>"
            ]
          },
          "metadata": {},
          "execution_count": 5
        }
      ]
    },
    {
      "cell_type": "code",
      "metadata": {
        "id": "DgGzRjwJr_h9"
      },
      "source": [
        ""
      ],
      "execution_count": null,
      "outputs": []
    }
  ]
}